{
 "cells": [
  {
   "cell_type": "markdown",
   "metadata": {},
   "source": [
    "# Extracting Link"
   ]
  },
  {
   "cell_type": "code",
   "execution_count": 13,
   "metadata": {},
   "outputs": [
    {
     "name": "stdout",
     "output_type": "stream",
     "text": [
      "\n",
      "\n",
      "\n",
      "\n",
      "\n",
      "\n",
      "\n"
     ]
    }
   ],
   "source": [
    "from bs4 import BeautifulSoup\n",
    "import requests\n",
    "url = \"https://www.tutorialspoint.com/index.html\"\n",
    "req = requests.get(url)\n",
    "soup = BeautifulSoup(req.text, \"html.parser\")\n",
    "lst = []\n",
    "for link in soup.find_all(\"a\"):\n",
    "    try:\n",
    "        if((link.get(\"href\")).startswith(\"https:\")):\n",
    "            #print(link.get(\"href\"))\n",
    "            lst.append(link.get(\"href\"))\n",
    "    except Exception as e:\n",
    "        print()\n",
    "# print(lst)"
   ]
  },
  {
   "cell_type": "code",
   "execution_count": 12,
   "metadata": {},
   "outputs": [],
   "source": [
    "from bs4 import BeautifulSoup\n",
    "with open(\"temp.html\") as fp:\n",
    "   soup = BeautifulSoup(fp)\n",
    "soup = BeautifulSoup(\"<html>data</html>\")"
   ]
  },
  {
   "cell_type": "code",
   "execution_count": 11,
   "metadata": {},
   "outputs": [
    {
     "name": "stdout",
     "output_type": "stream",
     "text": [
      "<html><body><b>tutorialspoint</b>, <i>&amp;web scraping &amp;data science;</i></body></html>\n"
     ]
    }
   ],
   "source": [
    "import bs4\n",
    "html = '''<b>tutorialspoint</b>, <i>&web scraping &data science;</i>'''\n",
    "soup = bs4.BeautifulSoup(html, 'lxml')\n",
    "print(soup)"
   ]
  },
  {
   "cell_type": "code",
   "execution_count": 18,
   "metadata": {},
   "outputs": [
    {
     "name": "stdout",
     "output_type": "stream",
     "text": [
      "<class 'bs4.element.Tag'>\n",
      "html\n"
     ]
    }
   ],
   "source": [
    "from bs4 import BeautifulSoup\n",
    "soup = BeautifulSoup('<b class=\"boldest\">TutorialsPoint</b>')\n",
    "tag = soup.html\n",
    "print(type(tag))\n",
    "print(tag.name)"
   ]
  },
  {
   "cell_type": "code",
   "execution_count": 19,
   "metadata": {},
   "outputs": [
    {
     "data": {
      "text/plain": [
       "<Strong><body><b class=\"boldest\">TutorialsPoint</b></body></Strong>"
      ]
     },
     "execution_count": 19,
     "metadata": {},
     "output_type": "execute_result"
    }
   ],
   "source": [
    "tag.name = \"Strong\"\n",
    "tag"
   ]
  },
  {
   "cell_type": "code",
   "execution_count": 56,
   "metadata": {},
   "outputs": [
    {
     "name": "stdout",
     "output_type": "stream",
     "text": [
      "Tutorialspoint\n",
      "Bitcoin Tutorial\n",
      "Blockchain Tutorial\n",
      "Blue Prism Tutorial\n",
      "Ethereum Tutorial\n",
      "OpenShift Tutorial\n",
      "Python Blockchain Tutorial\n",
      "Machine Learning Tutorial\n",
      "TensorFlow Tutorial\n",
      "Machine Learning with Python Tutorial\n",
      "AI with Python Tutorial\n",
      "Time Series Tutorial\n",
      "PyTorch Tutorial\n",
      "Computer-Fundamentals Tutorial\n",
      "Compiler-Design Tutorial\n",
      "Operating-System Tutorial\n",
      "Data-Structure Tutorial\n",
      "DBMS Tutorial\n",
      "Networking Tutorial\n",
      "html Tutorial\n",
      "css Tutorial\n",
      "Javascript Tutorial\n",
      "Php Tutorial\n",
      "Angular JS4 Tutorial\n",
      "MySQL Tutorial\n",
      "C-programming Tutorial\n",
      "C plus plus Tutorial\n",
      "java8 Tutorial\n",
      "Python Tutorial\n",
      "Scala Tutorial\n",
      "C Hash Tutorial\n",
      "java8 Tutorial\n",
      "JDBC Tutorial\n",
      "Servlets Tutorial\n",
      "spring Tutorial\n",
      "Hibernate Tutorial\n",
      "Swing Tutorial\n",
      "Android Tutorial\n",
      "Swift Tutorial\n",
      "IOS Tutorial\n",
      "Kotlin Tutorial\n",
      "React Native Tutorial\n",
      "Xamarian Tutorial\n",
      "Mongo DB Tutorial\n",
      "PL SQL Tutorial\n",
      "SQL Tutorial\n",
      "DB2 Tutorial\n",
      "MySQL Tutorial\n",
      "Memcached Tutorial\n",
      "ASP.NET Tutorial\n",
      "Entity Framework Tutorial\n",
      "VB.NET Tutorial\n",
      "Microsoft Project Tutorial\n",
      "Microsoft Excel Tutorial\n",
      "Microsoft Word Tutorial\n",
      "Big-Data-Analytics Tutorial\n",
      "hadoop plus Tutorial\n",
      "sas Tutorial\n",
      "QlikView Tutorial\n",
      "Power BI Tutorial\n",
      "Tableau Tutorial\n",
      "Developer's Best Practices\n",
      "Effective Resume Writing\n",
      "Computer Glossary\n",
      "Who is Who in Computer\n",
      "Technical Questions and Answers\n",
      "Multi-Lingual Tutorials\n",
      "tutorialspoint iPhone App\n",
      "tutorialspoint Android app\n",
      "tutorialspoint Windows app\n",
      "Tutorials Point\n",
      "Tutorialspoint\n",
      "Bitcoin Tutorial\n",
      "Blockchain Tutorial\n",
      "Blue Prism Tutorial\n",
      "Ethereum Tutorial\n",
      "OpenShift Tutorial\n",
      "Python Blockchain Tutorial\n",
      "Machine Learning Tutorial\n",
      "TensorFlow Tutorial\n",
      "Machine Learning with Python Tutorial\n",
      "AI with Python Tutorial\n",
      "Time Series Tutorial\n",
      "PyTorch Tutorial\n",
      "Computer-Fundamentals Tutorial\n",
      "Compiler-Design Tutorial\n",
      "Operating-System Tutorial\n",
      "Data-Structure Tutorial\n",
      "DBMS Tutorial\n",
      "Networking Tutorial\n",
      "html Tutorial\n",
      "css Tutorial\n",
      "Javascript Tutorial\n",
      "Php Tutorial\n",
      "Angular JS4 Tutorial\n",
      "MySQL Tutorial\n",
      "C-programming Tutorial\n",
      "C plus plus Tutorial\n",
      "java8 Tutorial\n",
      "Python Tutorial\n",
      "Scala Tutorial\n",
      "C Hash Tutorial\n",
      "java8 Tutorial\n",
      "JDBC Tutorial\n",
      "Servlets Tutorial\n",
      "spring Tutorial\n",
      "Hibernate Tutorial\n",
      "Swing Tutorial\n",
      "Android Tutorial\n",
      "Swift Tutorial\n",
      "IOS Tutorial\n",
      "Kotlin Tutorial\n",
      "React Native Tutorial\n",
      "Xamarian Tutorial\n",
      "Mongo DB Tutorial\n",
      "PL SQL Tutorial\n",
      "SQL Tutorial\n",
      "DB2 Tutorial\n",
      "MySQL Tutorial\n",
      "Memcached Tutorial\n",
      "ASP.NET Tutorial\n",
      "Entity Framework Tutorial\n",
      "VB.NET Tutorial\n",
      "Microsoft Project Tutorial\n",
      "Microsoft Excel Tutorial\n",
      "Microsoft Word Tutorial\n",
      "Big-Data-Analytics Tutorial\n",
      "hadoop plus Tutorial\n",
      "sas Tutorial\n",
      "QlikView Tutorial\n",
      "Power BI Tutorial\n",
      "Tableau Tutorial\n",
      "Developer's Best Practices\n",
      "Effective Resume Writing\n",
      "Computer Glossary\n",
      "Who is Who in Computer\n",
      "Technical Questions and Answers\n",
      "Multi-Lingual Tutorials\n",
      "tutorialspoint iPhone App\n",
      "tutorialspoint Android app\n",
      "tutorialspoint Windows app\n",
      "Tutorials Point\n"
     ]
    }
   ],
   "source": [
    "from bs4 import BeautifulSoup\n",
    "import requests\n",
    "url = \"https://www.tutorialspoint.com/index.html\"\n",
    "header = {'User-Agent': 'Mozilla/5.0'}\n",
    "req = requests.get(url, headers = header)\n",
    "soup = BeautifulSoup(req.text, \"html.parser\")\n",
    "links = soup.find_all(\"img\")\n",
    "for link in links:\n",
    "    if(link.get(\"title\")):\n",
    "        print(link.get(\"title\"))\n",
    "\n",
    "for link in links:\n",
    "    if(link.get(\"title\")):\n",
    "        print(link.get(\"alt\"))\n",
    "        \n",
    "# print(soup.head)\n",
    "# print(soup.title)\n",
    "# print(soup.find_all(\"b\"))\n",
    "# print(soup.find_all(\"a\"))\n",
    "# print(len(soup.contents))\n",
    "# print(soup.contents)"
   ]
  },
  {
   "cell_type": "code",
   "execution_count": null,
   "metadata": {},
   "outputs": [],
   "source": []
  }
 ],
 "metadata": {
  "kernelspec": {
   "display_name": "Python 3",
   "language": "python",
   "name": "python3"
  },
  "language_info": {
   "codemirror_mode": {
    "name": "ipython",
    "version": 3
   },
   "file_extension": ".py",
   "mimetype": "text/x-python",
   "name": "python",
   "nbconvert_exporter": "python",
   "pygments_lexer": "ipython3",
   "version": "3.8.5"
  }
 },
 "nbformat": 4,
 "nbformat_minor": 4
}
